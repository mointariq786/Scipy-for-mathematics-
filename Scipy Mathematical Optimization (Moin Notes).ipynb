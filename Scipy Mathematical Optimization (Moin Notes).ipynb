{
 "cells": [
  {
   "cell_type": "code",
   "execution_count": null,
   "id": "62bd8cce-5a56-4fe6-8149-ed9e29d69cd4",
   "metadata": {
    "tags": []
   },
   "outputs": [],
   "source": [
    "'''Optimization is closely related to equation solving because at an optimal value of\n",
    "a function, its derivative, or gradient in the multivariate case, is zero. The converse,\n",
    "however, is not necessarily true, but a method to solve optimization problems is to\n",
    "solve for the zeros of the derivative or the gradient and test the resulting candidates\n",
    "for optimality. This approach is not always feasible though, and often it is required to\n",
    "take other numerical approaches, many of which are closely related to the numerical\n",
    "methods for root finding.'''\n",
    "'''In this chapter we are concerned with the optimization of realvalued functions of one or \n",
    "several variables, which optionally can be subject to a set of constraints that restricts the \n",
    "domain of the function. A general optimization problem of the type considered here can be formulated as a\n",
    "minimization problem, min x f(x) , subject to sets of m equality constraints g(x) = 0 and\n",
    "p inequality constraints h(x) ≤ 0. Note that maximizing f(x) is equivalent to\n",
    "minimizing –f(x), so without loss of generality, it is sufficient to consider only\n",
    "minimization problems.'''\n",
    "'''The problem is univariate or one dimensional if x is a scalar, x ∈ ℝ, and multivariate or \n",
    "multidimensional if x is a vector, x ∈ ℝn.  If the objective function and the constraints\n",
    "all are linear, the problem is a linear optimization problem, or linear programming\n",
    "problem. If either the objective function or the constraints are nonlinear, it is a\n",
    "nonlinear optimization problem, or a nonlinear programming problem. With respect\n",
    "to constraints, important subclasses of optimization are unconstrained problems, and\n",
    "those with linear and nonlinear constraints. Finally, handling equality and inequality\n",
    "constraints requires different approaches.'''\n",
    "'''We will discuss using SciPy’s optimization module optimize for nonlinear\n",
    "optimization problems, and we will briefly explore using the convex optimization library\n",
    "cvxopt for linear optimization problems with linear constraints. This library also has\n",
    "powerful solvers for quadratic programming problems.'''\n",
    "!pip install cvxopt"
   ]
  },
  {
   "cell_type": "code",
   "execution_count": 17,
   "id": "7f16d656-c46d-437c-aff3-00064040c831",
   "metadata": {
    "tags": []
   },
   "outputs": [
    {
     "name": "stdout",
     "output_type": "stream",
     "text": [
      "Optimized value within bounds: -1.1105110510992415\n",
      "Objective function value at the optimized point: -3.2463942726905684\n"
     ]
    }
   ],
   "source": [
    "#Univariate Limits Constrained optimization:\n",
    "from scipy.optimize import *\n",
    "from numpy import *\n",
    "# Define the objective function\n",
    "def objective_function(x):\n",
    "    return x**2 + 5*sin(x)\n",
    "# Define bounds for the optimization\n",
    "bounds = (-5, 5)\n",
    "# Perform bounded univariate optimization\n",
    "result = minimize_scalar(objective_function, bounds=bounds) #minimize_scalar is a scipy function for univariate optimization\n",
    "# Print the optimized result\n",
    "print(\"Optimized value within bounds:\", result.x)\n",
    "print(\"Objective function value at the optimized point:\", result.fun)"
   ]
  },
  {
   "cell_type": "code",
   "execution_count": 19,
   "id": "45048c83-1111-48f9-80a9-8eec32768c33",
   "metadata": {},
   "outputs": [
    {
     "name": "stdout",
     "output_type": "stream",
     "text": [
      "Optimized parameters: [-1.07505143e-08 -1.07505143e-08]\n",
      "Optimal function value: 2.311471135620994e-16\n"
     ]
    }
   ],
   "source": [
    "#Multivariate Non-constrained optimization:\n",
    "# Define the objective function to be minimized\n",
    "def objective_function(x):\n",
    "    return x[0]**2 + x[1]**2  # Example objective function: x^2 + y^2\n",
    "# Initial guess for the optimization algorithm\n",
    "initial_guess = array([1.0, 1.0])\n",
    "# Perform unconstrained optimization using the minimize function\n",
    "result = minimize(objective_function, initial_guess, method='BFGS') #minimize is  a scipy function for multivariate optimization\n",
    "#BFGS', which stands for Broyden–Fletcher–Goldfarb–Shanno algorithm used for such problems\n",
    "# Print the optimization result\n",
    "print(\"Optimized parameters:\", result.x)\n",
    "print(\"Optimal function value:\", result.fun)"
   ]
  },
  {
   "cell_type": "code",
   "execution_count": 22,
   "id": "ff1c804d-3a26-41ab-80e4-381a7f052694",
   "metadata": {
    "tags": []
   },
   "outputs": [
    {
     "name": "stdout",
     "output_type": "stream",
     "text": [
      "Optimized parameters: [0. 0.]\n",
      "Optimal function value: 0.0\n"
     ]
    }
   ],
   "source": [
    "#Multivariate Limits constrained optimization:\n",
    "# Define the objective function to be minimized\n",
    "def objective_function(x):\n",
    "    return x[0]**2 + x[1]**2  # Example objective function: x^2 + y^2\n",
    "# Initial guess for the optimization algorithm\n",
    "initial_guess = array([1.0, 1.0])\n",
    "# Define the bounds for each variable\n",
    "bounds = [(0, None), (0, None)]  # Lower bound of 0 for both variables, no upper bounds\n",
    "# Perform unconstrained optimization with bounds using the L-BFGS-B method\n",
    "result = minimize(objective_function, initial_guess, method='L-BFGS-B', bounds=bounds) \n",
    "#L-BFGS-B method is efficient for problems with bounded variables and can handle multivariate optimization effectively.\n",
    "# Print the optimization result\n",
    "print(\"Optimized parameters:\", result.x)\n",
    "print(\"Optimal function value:\", result.fun)"
   ]
  },
  {
   "cell_type": "code",
   "execution_count": 61,
   "id": "02a67d46-b6f9-4d2a-8086-960c3f8c9d0d",
   "metadata": {
    "tags": []
   },
   "outputs": [
    {
     "name": "stdout",
     "output_type": "stream",
     "text": [
      "Optimal solution found.\n",
      "x= [[0.25]\n",
      " [0.75]\n",
      " [3.75]]\n",
      "f(x)= -10.0\n"
     ]
    }
   ],
   "source": [
    "#Linear Equalities and Inequalities constrrained optimization(Linear Programing):\n",
    "'''Consider the problem of minimizing the function f(x) =  − x0+2x1 − 3x2, subject to the three inequality \n",
    "constraints x0+x1 ≤ 1, −x0+3x1 ≤ 2, and −x1+x2 ≤ 3. . On the standard form, we have c = (−1,2,−3) Coefficients \n",
    "for the variables x0,x2 and x3 in f(x), b = (1, 2, 3) Right-hand side of the constraints and matrix\n",
    "A =[1 1 0\n",
    "    1 3 0\n",
    "    0 1 1] Coefficients for the variables  x0,x2 and x3 in the constraints.\n",
    "'''\n",
    "from numpy import *\n",
    "import cvxopt\n",
    "c = array([-1.0, 2.0, -3.0])\n",
    "A = array([[ 1.0, 1.0, 0.0],\n",
    " [-1.0, 3.0, 0.0],\n",
    " [ 0.0, -1.0, 1.0]]) \n",
    "b = array([1.0, 2.0, 3.0])\n",
    "A_ = cvxopt.matrix(A)\n",
    "b_ = cvxopt.matrix(b)\n",
    "c_ = cvxopt.matrix(c)\n",
    "#The cvxopt library uses its own classes for representing matrices and vectors, hence we first creat nupy arrays and then convert them to cvx objects.\n",
    "sol = cvxopt.solvers.lp(c_, A_, b_)\n",
    "x = array(sol['x'])\n",
    "print('x=',x)\n",
    "print('f(x)=',sol['primal objective'])"
   ]
  }
 ],
 "metadata": {
  "kernelspec": {
   "display_name": "Python 3 (ipykernel)",
   "language": "python",
   "name": "python3"
  },
  "language_info": {
   "codemirror_mode": {
    "name": "ipython",
    "version": 3
   },
   "file_extension": ".py",
   "mimetype": "text/x-python",
   "name": "python",
   "nbconvert_exporter": "python",
   "pygments_lexer": "ipython3",
   "version": "3.11.5"
  }
 },
 "nbformat": 4,
 "nbformat_minor": 5
}
