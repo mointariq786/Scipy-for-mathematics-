{
 "cells": [
  {
   "cell_type": "code",
   "execution_count": null,
   "id": "55aa7e32-6d56-4548-b6e9-96abe1ac594c",
   "metadata": {},
   "outputs": [],
   "source": [
    "'''There are two approaches of solving  equations in python: \n",
    "Symbolic Approach (sympy) which gives analytical solutions and\n",
    "Numerical Approach (Numpy + Scipy) which gives numerical solutions.\n",
    "The advantage of using SymPy is of course that we may obtain exact results and\n",
    "we can also include symbolic variables in the matrices. However, not all problems\n",
    "are solvable symbolically, or it may give exceedingly lengthy results. The advantage\n",
    "of using a numerical approach with NumPy/SciPy, on the other hand, is that we are\n",
    "guaranteed to obtain a result, although it will be an approximate solution due to\n",
    "floating-point errors.'''"
   ]
  },
  {
   "cell_type": "code",
   "execution_count": null,
   "id": "900b176c-6286-4dcd-96ba-897b791112e4",
   "metadata": {},
   "outputs": [],
   "source": [
    "'''Note that univariate linear eq. can be simply solved symbolically by sympy.solve method. \n",
    "However, multivariate system have various mehtods depending on nature of the problem.'''\n",
    "#Solving Sytem of Linear Eqs."
   ]
  },
  {
   "cell_type": "code",
   "execution_count": 2,
   "id": "a7bff15b-96e8-43a8-8f9e-5313b29b6c50",
   "metadata": {
    "tags": []
   },
   "outputs": [
    {
     "data": {
      "text/latex": [
       "$\\displaystyle \\left[\\begin{matrix}-7\\\\\\frac{21}{5}\\\\- \\frac{18}{5}\\end{matrix}\\right]$"
      ],
      "text/plain": [
       "Matrix([\n",
       "[   -7],\n",
       "[ 21/5],\n",
       "[-18/5]])"
      ]
     },
     "execution_count": 2,
     "metadata": {},
     "output_type": "execute_result"
    }
   ],
   "source": [
    "#Symbolic solution of Square system of Linear eqs:\n",
    "from sympy import *\n",
    "A=Matrix([[2,6,2],[-3,0,5],[5,4,-7]])\n",
    "b = Matrix([4, 3,7])\n",
    "x=A.solve(b)\n",
    "x"
   ]
  },
  {
   "cell_type": "code",
   "execution_count": 37,
   "id": "c66eead1-3c96-433a-9942-2a049c9acac4",
   "metadata": {
    "tags": []
   },
   "outputs": [
    {
     "data": {
      "text/latex": [
       "$\\displaystyle \\left[\\begin{matrix}\\frac{2 p - 1}{p - 1}\\\\\\frac{1}{- \\sqrt{p} + \\frac{1}{\\sqrt{p}}}\\end{matrix}\\right]$"
      ],
      "text/plain": [
       "Matrix([\n",
       "[       (2*p - 1)/(p - 1)],\n",
       "[1/(-sqrt(p) + 1/sqrt(p))]])"
      ]
     },
     "execution_count": 37,
     "metadata": {},
     "output_type": "execute_result"
    }
   ],
   "source": [
    "p = symbols(\"p\", positive=True)\n",
    "A = Matrix([[1, sympy.sqrt(p)], [1, 1/sympy.sqrt(p)]])\n",
    "b = Matrix([1, 2])\n",
    "x = A.solve(b)\n",
    "x"
   ]
  },
  {
   "cell_type": "code",
   "execution_count": 38,
   "id": "4452589a-c419-40ab-8291-524f914398d9",
   "metadata": {
    "tags": []
   },
   "outputs": [
    {
     "name": "stdout",
     "output_type": "stream",
     "text": [
      "[-7.   4.2 -3.6]\n"
     ]
    }
   ],
   "source": [
    "#Numerical solution of Square system of Linear eqs:\n",
    "from scipy import linalg as la\n",
    "from numpy import *\n",
    "A=array([[2,6,2],[-3,0,5],[5,4,-7]])\n",
    "b = array([4, 3,7])\n",
    "x=la.solve(A,b)\n",
    "print(x)"
   ]
  },
  {
   "cell_type": "code",
   "execution_count": 58,
   "id": "a53f75ec-2820-4bc7-93a9-4f660ec82b7d",
   "metadata": {
    "tags": []
   },
   "outputs": [
    {
     "name": "stdout",
     "output_type": "stream",
     "text": [
      "[ 3.         -1.41421356]\n"
     ]
    }
   ],
   "source": [
    "def A(p):\n",
    "    return array([[1, sqrt(p)], [1, 1/sqrt(p)]])\n",
    "b = array([1, 2])\n",
    "def x(p):\n",
    "    return la.solve(A(p),b)\n",
    "print(x(2))"
   ]
  },
  {
   "cell_type": "code",
   "execution_count": 6,
   "id": "b79d6082-08c8-4d4d-adb4-627c5deec1f4",
   "metadata": {
    "tags": []
   },
   "outputs": [
    {
     "data": {
      "image/png": "[encoded data removed]",
      "text/latex": [
       "$\\displaystyle \\left\\{ x_{1} : x_{3} - \\frac{19}{3}, \\  x_{2} : \\frac{20}{3} - 2 x_{3}\\right\\}$"
      ],
      "text/plain": [
       "{x₁: x₃ - 19/3, x₂: 20/3 - 2⋅x₃}"
      ]
     },
     "execution_count": 6,
     "metadata": {},
     "output_type": "execute_result"
    }
   ],
   "source": [
    "#Symbolic solution of Rectangular System (underdetermined) of Linear Eqs.\n",
    "'''Rectangular systems, with m ≠ n, can be either underdetermined or overdetermined.\n",
    "Underdetermined systems have more variables than equations, so the solution cannot\n",
    "be fully determined. Therefore, for such a system, the solution must be given in terms\n",
    "of the remaining free variables. This makes it difficult to treat this type of problem\n",
    "numerically, but a symbolic approach can often be used instead i.e'''\n",
    "x_vars = symbols(\"x1, x2, x3\")\n",
    "A = Matrix([[1, 2, 3], [4, 5, 6]])\n",
    "x = Matrix(x_vars)\n",
    "b = Matrix([7, 8])\n",
    "solve(A*x - b, x_vars)"
   ]
  },
  {
   "cell_type": "code",
   "execution_count": 14,
   "id": "a8093eca-9913-4233-b2d7-6f819fde0a26",
   "metadata": {},
   "outputs": [
    {
     "name": "stdout",
     "output_type": "stream",
     "text": [
      "Solution x: [-4.   4.5]\n",
      "Residuals: 8.735582265323586e-31\n",
      "Rank: 2\n",
      "Singular_values: [9.52551809 0.51430058]\n"
     ]
    }
   ],
   "source": [
    "#Numerical solution of Rectangular System (overdetemined) of Linear Eqs.\n",
    "'''On the other hand, if the system is overdetermined and has more equations than\n",
    "unknown variables, m > n, then we have more constraints than degrees of freedom, and\n",
    "in general there is no exact solution to such a system. However, it is often interesting to\n",
    "find an approximate solution to an overdetermined system by least square method in Mathematics. \n",
    "Note learn least square method for betterr understanding of underlying concepts'''\n",
    "from scipy import linalg as la\n",
    "# Define the coefficients matrix A and the constants vector b\n",
    "A = np.array([[1, 2], [3, 4], [5, 6]])\n",
    "b = np.array([5, 6, 7])\n",
    "# Solve the least squares problem to find the solution x\n",
    "x, residuals, rank, singular_values =la.lstsq(A, b)\n",
    "# Print the solution x and residuals\n",
    "print(\"Solution x:\", x)\n",
    "print(\"Residuals:\", residuals)\n",
    "print('Rank:',rank) \n",
    "'''The rank of a matrix is the maximum number of linearly independent rows or columns in the matrix. \n",
    "It gives insight into the dimensionality and properties of the linear system.'''\n",
    "print('Singular_values:',singular_values)"
   ]
  },
  {
   "cell_type": "code",
   "execution_count": null,
   "id": "93cd8548-3e7e-443f-a651-27d34c88a295",
   "metadata": {},
   "outputs": [],
   "source": [
    "#Finding EigenValues and EigenVectors of a Square Matrix:"
   ]
  },
  {
   "cell_type": "code",
   "execution_count": 21,
   "id": "66e5a0a2-8788-4829-853a-a3ced44385e2",
   "metadata": {
    "tags": []
   },
   "outputs": [
    {
     "data": {
      "text/latex": [
       "$\\displaystyle \\left[\\begin{matrix}\\epsilon & \\Delta\\\\\\Delta & - \\epsilon\\end{matrix}\\right]$"
      ],
      "text/plain": [
       "⎡ε  Δ ⎤\n",
       "⎢     ⎥\n",
       "⎣Δ  -ε⎦"
      ]
     },
     "execution_count": 21,
     "metadata": {},
     "output_type": "execute_result"
    }
   ],
   "source": [
    "#By Sympy:\n",
    "from sympy import *\n",
    "init_printing()\n",
    "'''In SymPy, we can use the eigenvals and eigenvects methods of the Matrix class, which are able to compute \n",
    "the eigenvalues and eigenvectors of some matrices with elements that are symbolic expressions.'''\n",
    "eps, delta = symbols(\"epsilon, Delta\")\n",
    "H = Matrix([[eps, delta], [delta, -eps]])\n",
    "H"
   ]
  },
  {
   "cell_type": "code",
   "execution_count": 23,
   "id": "fdd60be7-1492-4ea0-a774-33d9769fa1c6",
   "metadata": {
    "tags": []
   },
   "outputs": [
    {
     "data": {
      "image/png": "[encoded data removed]",
      "text/latex": [
       "$\\displaystyle \\left\\{ - \\sqrt{\\Delta^{2} + \\epsilon^{2}} : 1, \\  \\sqrt{\\Delta^{2} + \\epsilon^{2}} : 1\\right\\}$"
      ],
      "text/plain": [
       "⎧    _________        _________   ⎫\n",
       "⎨   ╱  2    2        ╱  2    2    ⎬\n",
       "⎩-╲╱  Δ  + ε  : 1, ╲╱  Δ  + ε  : 1⎭"
      ]
     },
     "execution_count": 23,
     "metadata": {},
     "output_type": "execute_result"
    }
   ],
   "source": [
    "H.eigenvals()"
   ]
  },
  {
   "cell_type": "code",
   "execution_count": 24,
   "id": "4ebf0598-21dd-4793-9cd1-03f3cfb6fcdd",
   "metadata": {
    "tags": []
   },
   "outputs": [
    {
     "data": {
      "text/latex": [
       "$\\displaystyle \\left[ \\left( - \\sqrt{\\Delta^{2} + \\epsilon^{2}}, \\  1, \\  \\left[ \\left[\\begin{matrix}\\frac{\\epsilon}{\\Delta} - \\frac{\\sqrt{\\Delta^{2} + \\epsilon^{2}}}{\\Delta}\\\\1\\end{matrix}\\right]\\right]\\right), \\  \\left( \\sqrt{\\Delta^{2} + \\epsilon^{2}}, \\  1, \\  \\left[ \\left[\\begin{matrix}\\frac{\\epsilon}{\\Delta} + \\frac{\\sqrt{\\Delta^{2} + \\epsilon^{2}}}{\\Delta}\\\\1\\end{matrix}\\right]\\right]\\right)\\right]$"
      ],
      "text/plain": [
       "⎡⎛                  ⎡⎡       _________⎤⎤⎞  ⎛                 ⎡⎡       ________\n",
       "⎢⎜    _________     ⎢⎢      ╱  2    2 ⎥⎥⎟  ⎜   _________     ⎢⎢      ╱  2    2\n",
       "⎢⎜   ╱  2    2      ⎢⎢ε   ╲╱  Δ  + ε  ⎥⎥⎟  ⎜  ╱  2    2      ⎢⎢ε   ╲╱  Δ  + ε \n",
       "⎢⎜-╲╱  Δ  + ε  , 1, ⎢⎢─ - ────────────⎥⎥⎟, ⎜╲╱  Δ  + ε  , 1, ⎢⎢─ + ───────────\n",
       "⎢⎜                  ⎢⎢Δ        Δ      ⎥⎥⎟  ⎜                 ⎢⎢Δ        Δ     \n",
       "⎢⎜                  ⎢⎢                ⎥⎥⎟  ⎜                 ⎢⎢               \n",
       "⎣⎝                  ⎣⎣       1        ⎦⎦⎠  ⎝                 ⎣⎣       1       \n",
       "\n",
       "_⎤⎤⎞⎤\n",
       " ⎥⎥⎟⎥\n",
       " ⎥⎥⎟⎥\n",
       "─⎥⎥⎟⎥\n",
       " ⎥⎥⎟⎥\n",
       " ⎥⎥⎟⎥\n",
       " ⎦⎦⎠⎦"
      ]
     },
     "execution_count": 24,
     "metadata": {},
     "output_type": "execute_result"
    }
   ],
   "source": [
    "H.eigenvects()"
   ]
  },
  {
   "cell_type": "code",
   "execution_count": 38,
   "id": "864100f7-67b9-4ed3-a8b7-19da843fd16b",
   "metadata": {
    "tags": []
   },
   "outputs": [
    {
     "name": "stdout",
     "output_type": "stream",
     "text": [
      "[13.35310908+0.j -1.75902942+0.j  3.40592034+0.j] \n",
      " [13.35310908 -1.75902942  3.40592034]\n"
     ]
    }
   ],
   "source": [
    "'''Obtaining analytical expressions for eigenvalues and eigenvectors using these methods is often very desirable indeed, \n",
    "but unfortunately it only works for small matrices. For anything larger than a 3 × 3, the analytical expression \n",
    "typically becomes extremely lengthy and cumbersome to work with even using a computer algebra system such as SymPy.\n",
    "Therefore, for larger systems we must resort to a fully numerical approach'''\n",
    "#By Scipy/Numpy:\n",
    "from numpy import *\n",
    "from scipy import linalg as la\n",
    "A = array([[1, 3, 5], [3, 5, 3], [5, 3, 9]])\n",
    "evals, evecs = la.eig(A)\n",
    "print(evals,'\\n',evals.real)"
   ]
  },
  {
   "cell_type": "code",
   "execution_count": 27,
   "id": "55def0d0-26f6-4ad1-b3ee-5c69156eeff4",
   "metadata": {
    "tags": []
   },
   "outputs": [
    {
     "data": {
      "text/plain": [
       "array([[ 0.42663918,  0.90353276, -0.04009445],\n",
       "       [ 0.43751227, -0.24498225, -0.8651975 ],\n",
       "       [ 0.79155671, -0.35158534,  0.49982569]])"
      ]
     },
     "execution_count": 27,
     "metadata": {},
     "output_type": "execute_result"
    }
   ],
   "source": [
    "evecs"
   ]
  },
  {
   "cell_type": "code",
   "execution_count": null,
   "id": "6403616a-ca7b-4da1-9c03-df16f9115b85",
   "metadata": {
    "tags": []
   },
   "outputs": [],
   "source": [
    "#Solving Sytem of Non-Linear Eqs."
   ]
  },
  {
   "cell_type": "code",
   "execution_count": 39,
   "id": "de13541a-772b-4747-8848-9cb1d47caf63",
   "metadata": {
    "tags": []
   },
   "outputs": [
    {
     "data": {
      "image/png": "[encoded data removed]",
      "text/latex": [
       "$\\displaystyle \\left[ \\frac{- b - \\sqrt{- 4 a c + b^{2}}}{2 c}, \\  \\frac{- b + \\sqrt{- 4 a c + b^{2}}}{2 c}\\right]$"
      ],
      "text/plain": [
       "⎡        _____________          _____________⎤\n",
       "⎢       ╱           2          ╱           2 ⎥\n",
       "⎢-b - ╲╱  -4⋅a⋅c + b    -b + ╲╱  -4⋅a⋅c + b  ⎥\n",
       "⎢─────────────────────, ─────────────────────⎥\n",
       "⎣         2⋅c                    2⋅c         ⎦"
      ]
     },
     "execution_count": 39,
     "metadata": {},
     "output_type": "execute_result"
    }
   ],
   "source": [
    "#Univariate systems:\n",
    "'''Some univariate non-linear eqs. can be solved analyticaly by sympy, however most require numerical solutions \n",
    "such as newton method or bisection method'''\n",
    "x, a, b, c = symbols(\"x, a, b, c\")\n",
    "solve(a + b*x + c*x**2, x)"
   ]
  },
  {
   "cell_type": "code",
   "execution_count": 48,
   "id": "c7614c5b-9a9d-4c13-b8b9-c7571aa4025b",
   "metadata": {
    "tags": []
   },
   "outputs": [
    {
     "data": {
      "image/png": "[encoded data removed]",
      "text/latex": [
       "$\\displaystyle 0.739085133214758$"
      ],
      "text/plain": [
       "0.7390851332147577"
      ]
     },
     "execution_count": 48,
     "metadata": {},
     "output_type": "execute_result"
    }
   ],
   "source": [
    "'''The SciPy optimize module provides multiple functions for numerical root finding.\n",
    "The optimize.bisect and optimize.newton functions implement variants of bisection\n",
    "and Newton methods. The optimize.bisect takes three arguments: first a Python\n",
    "function (e.g., a lambda function) that represents the mathematical function for the\n",
    "equation for which a root is to be calculated and the second and third arguments are the\n",
    "lower and upper values of the interval for which to perform the bisection method. Note\n",
    "that the sign of the function has to be different at the points a and b for the bisection\n",
    "method to work, as discussed earlier. '''\n",
    "from scipy import optimize\n",
    "optimize.bisect(lambda x:x-cos(x),-2,2)"
   ]
  },
  {
   "cell_type": "code",
   "execution_count": 52,
   "id": "f4da7f72-c0df-441f-8ae0-d69629282fa4",
   "metadata": {
    "tags": []
   },
   "outputs": [
    {
     "data": {
      "image/png": "[encoded data removed]",
      "text/latex": [
       "$\\displaystyle 0.693147180559946$"
      ],
      "text/plain": [
       "0.6931471805599455"
      ]
     },
     "execution_count": 52,
     "metadata": {},
     "output_type": "execute_result"
    }
   ],
   "source": [
    "'''In contrast, the function optimize.newton for Newton’s method\n",
    "takes a function as the first argument and an initial guess for the root of the function as\n",
    "the second argument. Optionally, it also takes an argument for specifying the derivative\n",
    "of the function, using the fprime keyword argument. If fprime is given, Newton’s\n",
    "method is used; otherwise the secant method is used instead.'''\n",
    "x_root_guess = 2\n",
    "f = lambda x:exp(x)-2\n",
    "fprime = lambda x:exp(x)\n",
    "optimize.newton(f, x_root_guess) #Secant Method"
   ]
  },
  {
   "cell_type": "code",
   "execution_count": 53,
   "id": "3bd6e78d-c183-45f7-b183-1e4b0c6a1db0",
   "metadata": {
    "tags": []
   },
   "outputs": [
    {
     "data": {
      "image/png": "[encoded data removed]",
      "text/latex": [
       "$\\displaystyle 0.693147180559945$"
      ],
      "text/plain": [
       "0.6931471805599453"
      ]
     },
     "execution_count": 53,
     "metadata": {},
     "output_type": "execute_result"
    }
   ],
   "source": [
    "optimize.newton(f, x_root_guess,fprime=fprime) #Newton Method"
   ]
  },
  {
   "cell_type": "code",
   "execution_count": 62,
   "id": "680f0ba9-f0e4-4f3b-bb69-5381e6550017",
   "metadata": {
    "tags": []
   },
   "outputs": [
    {
     "name": "stdout",
     "output_type": "stream",
     "text": [
      "Solution: [1.93185165 0.51763809]\n"
     ]
    }
   ],
   "source": [
    "#Multivariate system:\n",
    "''''No symbolic solution possible, only numerical solution. fsolve is a powerful function for solving systems of \n",
    "nonlinear equations numerically. It requires an initial guess for the solution and the definition of the system \n",
    "of equations as a function. The function iteratively refines the solution until it converges to a root or reaches \n",
    "the specified tolerance level.'''\n",
    "import numpy as np\n",
    "import matplotlib.pyplot as plt\n",
    "from scipy.optimize import fsolve\n",
    "\n",
    "# Define the system of nonlinear equations as a function\n",
    "def equations(x):\n",
    "    # Define the equations\n",
    "    eq1 = x[0]**2 + x[1]**2 - 4  # x^2 + y^2 = 4\n",
    "    eq2 = x[0]*x[1] - 1  # xy = 1\n",
    "\n",
    "    # Return the equations as a tuple\n",
    "    return (eq1, eq2)\n",
    "\n",
    "# Initial guess for the solution\n",
    "initial_guess = [1, 1]\n",
    "\n",
    "# Solve the system of equations\n",
    "solution = fsolve(equations, initial_guess)\n",
    "\n",
    "# Print the solution\n",
    "print(\"Solution:\", solution)"
   ]
  }
 ],
 "metadata": {
  "kernelspec": {
   "display_name": "Python 3 (ipykernel)",
   "language": "python",
   "name": "python3"
  },
  "language_info": {
   "codemirror_mode": {
    "name": "ipython",
    "version": 3
   },
   "file_extension": ".py",
   "mimetype": "text/x-python",
   "name": "python",
   "nbconvert_exporter": "python",
   "pygments_lexer": "ipython3",
   "version": "3.11.5"
  }
 },
 "nbformat": 4,
 "nbformat_minor": 5
}
